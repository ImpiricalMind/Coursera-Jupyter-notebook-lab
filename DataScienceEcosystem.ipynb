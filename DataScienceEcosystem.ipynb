{
 "cells": [
  {
   "cell_type": "markdown",
   "id": "eab8402a",
   "metadata": {},
   "source": [
    "# Data Science Tools and Ecosystem"
   ]
  },
  {
   "cell_type": "markdown",
   "id": "ecdf876a",
   "metadata": {},
   "source": [
    "## Author:"
   ]
  },
  {
   "cell_type": "markdown",
   "id": "fb91c994",
   "metadata": {},
   "source": [
    "Mykyta Horobets"
   ]
  },
  {
   "cell_type": "markdown",
   "id": "478f1124",
   "metadata": {},
   "source": [
    " "
   ]
  },
  {
   "cell_type": "markdown",
   "id": "0691a7e7",
   "metadata": {},
   "source": [
    "In this notebook, Data Science Tools and Ecosystem are summarized."
   ]
  },
  {
   "cell_type": "markdown",
   "id": "faf0ad13",
   "metadata": {},
   "source": [
    "**Objectives:**\n",
    "   - Popular languages used for Data Science\n",
    "   - Popular libraries\n",
    "   - Data Science tools\n",
    "   - Arithmetic expressions using Python\n",
    "    "
   ]
  },
  {
   "cell_type": "markdown",
   "id": "fc455f99",
   "metadata": {},
   "source": [
    "Some of the popular languages that Data Scientists use are:\n",
    "   1. Python\n",
    "   2. R\n",
    "   3. Ruby\n",
    "   4. Java\n",
    "   5. SQL\n",
    "   "
   ]
  },
  {
   "cell_type": "markdown",
   "id": "d8734ff7",
   "metadata": {},
   "source": [
    "Some of the commonly used libraries used by Data Scientists include:\n",
    "  1. Pandas\n",
    "  2. Matplotlib\n",
    "  3. Pyplot"
   ]
  },
  {
   "cell_type": "markdown",
   "id": "a43a37b3",
   "metadata": {},
   "source": [
    "Data Science Tools |\n",
    "--\n",
    "R Studio |\n",
    "JupyterNotebook |\n",
    "JupyterLab |\n",
    "Visual Studio |\n",
    "\n"
   ]
  },
  {
   "cell_type": "markdown",
   "id": "0aaa7f0c",
   "metadata": {},
   "source": [
    "### Below are a few examples of evaluating arithmetic expressions in Python"
   ]
  },
  {
   "cell_type": "code",
   "execution_count": 3,
   "id": "afbf68dd",
   "metadata": {},
   "outputs": [
    {
     "data": {
      "text/plain": [
       "17"
      ]
     },
     "execution_count": 3,
     "metadata": {},
     "output_type": "execute_result"
    }
   ],
   "source": [
    "(3*4)+5"
   ]
  },
  {
   "cell_type": "markdown",
   "id": "2b14f770",
   "metadata": {},
   "source": [
    "This a simple arithmetic expression to mutiply then add integers"
   ]
  },
  {
   "cell_type": "code",
   "execution_count": 4,
   "id": "0e4a6888",
   "metadata": {},
   "outputs": [
    {
     "data": {
      "text/plain": [
       "3.3333333333333335"
      ]
     },
     "execution_count": 4,
     "metadata": {},
     "output_type": "execute_result"
    }
   ],
   "source": [
    "200/60\n"
   ]
  },
  {
   "cell_type": "markdown",
   "id": "bfcbfc26",
   "metadata": {},
   "source": [
    "This will convert 200 minutes to hours by diving by 60"
   ]
  },
  {
   "cell_type": "code",
   "execution_count": null,
   "id": "3de023c8",
   "metadata": {},
   "outputs": [],
   "source": []
  }
 ],
 "metadata": {
  "kernelspec": {
   "display_name": "Python 3 (ipykernel)",
   "language": "python",
   "name": "python3"
  },
  "language_info": {
   "codemirror_mode": {
    "name": "ipython",
    "version": 3
   },
   "file_extension": ".py",
   "mimetype": "text/x-python",
   "name": "python",
   "nbconvert_exporter": "python",
   "pygments_lexer": "ipython3",
   "version": "3.11.5"
  }
 },
 "nbformat": 4,
 "nbformat_minor": 5
}
